{
  "nbformat": 4,
  "nbformat_minor": 0,
  "metadata": {
    "colab": {
      "provenance": [],
      "authorship_tag": "ABX9TyNLEWWVx/CgxiHfldCgXjos",
      "include_colab_link": true
    },
    "kernelspec": {
      "name": "python3",
      "display_name": "Python 3"
    },
    "language_info": {
      "name": "python"
    }
  },
  "cells": [
    {
      "cell_type": "markdown",
      "metadata": {
        "id": "view-in-github",
        "colab_type": "text"
      },
      "source": [
        "<a href=\"https://colab.research.google.com/github/ammadamir1122/Markov-Chain-Python-Implementation/blob/main/Markov_Chains.ipynb\" target=\"_parent\"><img src=\"https://colab.research.google.com/assets/colab-badge.svg\" alt=\"Open In Colab\"/></a>"
      ]
    },
    {
      "cell_type": "markdown",
      "source": [
        "Task 2\n",
        "\n",
        "We have a research lab, which is working on a spaceship. Making fuel for the spaceship’s reactor core is a tricky process because of the exotic matter involved. It starts as raw ore, then during processing, begins randomly changing between forms, eventually reaching a stable form. There may be multiple stable forms that a sample could ultimately reach, not all of which are useful as fuel.\n",
        "\n",
        "Research lab has tasked you to help the scientists increase fuel creation efficiency by predicting the end state of a given ore sample. You have carefully studied the different structures that the ore can take and which transitions it undergoes. It appears that, while random, the probability of each structure transforming is fixed. That is, each time the ore is in 1 state, it has the same probabilities of entering the next state (which might be the same state). You have recorded the observed transitions in a matrix. The others in the lab have hypothesized more exotic forms that the ore can become, but you haven't seen all of them.\n",
        "\n",
        "Task 2.1\n",
        "\n",
        "Write a function solution(m) that takes an array of array of nonnegative ints representing how many times that state has gone to the next state and return an array of ints for each terminal state giving the exact probabilities of each terminal state, represented as the numerator for each state, then the denominator for all of them at the end and in simplest form. The matrix is at most 10 by 10. It is guaranteed that no matter which state the ore is in, there is a path from that state to a terminal state. That is, the processing will always eventually end in a stable state. The ore starts in state 0. The denominator will fit within a signed 32-bit integer during the calculation, as long as the fraction is simplified regularly.\n",
        "\n",
        "For example, consider the matrix m:\n",
        "\n",
        "[\n",
        "\n",
        "    [0,1,0,0,0,1], # s0, the initial state, goes to s1 and s5 with equal probability\n",
        "\n",
        "    [4,0,0,3,2,0], # s1 can become s0, s3, or s4, but with different probabilities\n",
        "\n",
        "    [0,0,0,0,0,0], # s2 is terminal, and unreachable (never observed in practice)\n",
        "\n",
        "    [0,0,0,0,0,0], # s3 is terminal\n",
        "\n",
        "    [0,0,0,0,0,0], # s4 is terminal\n",
        "\n",
        "    [0,0,0,0,0,0], # s5 is terminal\n",
        "\n",
        "]\n",
        "\n",
        "So, we can consider different paths to terminal states, such as:\n",
        "\n",
        "s0 -> s1 -> s3\n",
        "\n",
        "s0 -> s1 -> s0 -> s1 -> s0 -> s1 -> s4\n",
        "\n",
        "s0 -> s1 -> s0 -> s5\n",
        "\n",
        "Tracing the probabilities of each, we find that s2 has probability 0\n",
        "\n",
        "s3 has probability 3/14\n",
        "\n",
        "s4 has probability 1/7\n",
        "\n",
        "s5 has probability 9/14\n",
        "\n",
        "So, putting that together, and making a common denominator, gives an answer in the form of [s2.numerator, s3.numerator, s4.numerator, s5.numerator, denominator] which is [0, 3, 2, 9, 14].\n",
        "\n",
        "Test cases\n",
        "\n",
        "Input: solution([[0, 2, 1, 0, 0], [0, 0, 0, 3, 4], [0, 0, 0, 0, 0], [0, 0, 0, 0,0], [0, 0, 0, 0, 0]])\n",
        "\n",
        "Output: [7, 6, 8, 21]\n",
        "\n",
        "Input: solution([[0, 1, 0, 0, 0, 1], [4, 0, 0, 3, 2, 0], [0, 0, 0, 0, 0, 0], [0, 0, 0, 0, 0, 0], [0, 0, 0, 0, 0, 0], [0, 0, 0, 0, 0, 0]])\n",
        "\n",
        "Output: [0, 3, 2, 9, 14]\n",
        "\n",
        "Task 2.2\n",
        "\n",
        "Create an API gateway using flask for the above solution. The API should be able to respond to the results after getting the input from the POST request."
      ],
      "metadata": {
        "id": "DevfQxPUX6TY"
      }
    },
    {
      "cell_type": "code",
      "source": [
        "from fractions import Fraction\n",
        "import numpy as np\n",
        "# Rearranging the matrix to markov's standard form\n",
        "def markov_standard_form(m):\n",
        "      l = len(m)\n",
        "      for i in range(l):\n",
        "        row_sum = sum(m[i])\n",
        "        if row_sum == 0:\n",
        "            m[i][i] = 1\n",
        "        else:\n",
        "            for j in range(l):\n",
        "                m[i][j] = Fraction(m[i][j], row_sum)"
      ],
      "metadata": {
        "id": "JlfOZl5GgTko"
      },
      "execution_count": 53,
      "outputs": []
    },
    {
      "cell_type": "code",
      "source": [
        "def extract_identity_matrix(size, matrix):\n",
        "    matrix_I = []\n",
        "    for i in range(size):\n",
        "        row = []\n",
        "        for j in range(size):\n",
        "            if i == j:\n",
        "                row.append(1.0)\n",
        "            else:\n",
        "                row.append(0.0)\n",
        "        matrix_I.append(row)\n",
        "    return matrix_I\n"
      ],
      "metadata": {
        "id": "8hexoPbzycnj"
      },
      "execution_count": 54,
      "outputs": []
    },
    {
      "cell_type": "code",
      "source": [
        "def submatrix(m, rows, cols):\n",
        "    new_matrix = []\n",
        "    for row in rows:\n",
        "        current_row = []\n",
        "        for col in cols:\n",
        "            current_row.append(m[row][col])\n",
        "        new_matrix.append(current_row)\n",
        "    return new_matrix"
      ],
      "metadata": {
        "id": "AO5tjU9c0CDi"
      },
      "execution_count": 55,
      "outputs": []
    },
    {
      "cell_type": "code",
      "source": [
        "def matrix_Q(matrix, transient_states):\n",
        "    return submatrix(matrix, transient_states, transient_states)"
      ],
      "metadata": {
        "id": "Q1cAfQ-g_0j2"
      },
      "execution_count": 56,
      "outputs": []
    },
    {
      "cell_type": "code",
      "source": [
        "def matrix_R(m, transient_states, absorbing_states):\n",
        "    return submatrix(m, transient_states, absorbing_states)"
      ],
      "metadata": {
        "id": "QIrSTL2HAPP9"
      },
      "execution_count": 57,
      "outputs": []
    },
    {
      "cell_type": "markdown",
      "source": [
        "**Since we are approaching towards limiting matrix and now we have Q, R and I matrices we will find FR where F = (I - Q)^-1**"
      ],
      "metadata": {
        "id": "r5VK3KvZC46m"
      }
    },
    {
      "cell_type": "code",
      "source": [
        "# Lets subtract matrix I and matrix Q\n",
        "def materices_subtraction(arr_I, arr_Q):\n",
        "    \"\"\"\n",
        "    Subtract the elements of arr_Q from arr_I and return the resulting array of arrays\n",
        "    \"\"\"\n",
        "    # Check that the arrays have the same shape\n",
        "    if len(arr_I) != len(arr_Q) or len(arr_I[0]) != len(arr_Q[0]):\n",
        "        raise ValueError(\"Arrays must have the same shape\")\n",
        "    \n",
        "    # Create a new array of arrays to hold the result\n",
        "    subtraction_result = []\n",
        "    \n",
        "    # Subtract the elements of the arrays element-wise\n",
        "    for i in range(len(arr_I)):\n",
        "        row = []\n",
        "        for j in range(len(arr_I[i])):\n",
        "            row.append(arr_I[i][j] - arr_Q[i][j])\n",
        "        subtraction_result.append(row)\n",
        "    return subtraction_result"
      ],
      "metadata": {
        "id": "dzzIENMSApD5"
      },
      "execution_count": 58,
      "outputs": []
    },
    {
      "cell_type": "markdown",
      "source": [
        "**Now we have to find the inverse of the matrix called subtraction_result, which will be equal to F**"
      ],
      "metadata": {
        "id": "6DjKuLNfFjQk"
      }
    },
    {
      "cell_type": "code",
      "source": [
        "def materices_inverse(subtraction_result):\n",
        "    try:\n",
        "        matrix_F = np.linalg.inv(subtraction_result)\n",
        "        return matrix_F\n",
        "    except np.linalg.LinAlgError:\n",
        "        # Matrix is singular (not invertible)\n",
        "        return None"
      ],
      "metadata": {
        "id": "PHaVbh-RFxHk"
      },
      "execution_count": 59,
      "outputs": []
    },
    {
      "cell_type": "markdown",
      "source": [
        "**At this point we already have calculated both the matrices matrix_F and matrix_R, now to get the final probabilities we have to multiply both the matrices and this will be our final function named as \"solution(m)\":**"
      ],
      "metadata": {
        "id": "hZLTLRsSHbrv"
      }
    },
    {
      "cell_type": "code",
      "source": [
        "def materices_multiplication(matrix_F, matrix_R):\n",
        "    # Check if the matrices can be multiplied\n",
        "    if len(matrix_F[0]) != len(matrix_R):\n",
        "        return None\n",
        "    else:\n",
        "        # Initialize result matrix with zeros\n",
        "        final_probabilities = [[0] * len(matrix_R[0]) for i in range(len(matrix_F))]\n",
        "        # Multiply the matrices\n",
        "        for i in range(len(matrix_F)):\n",
        "            for j in range(len(matrix_F[0])):\n",
        "                for k in range(len(matrix_F)):\n",
        "                    final_probabilities[i][j] += matrix_F[i][k] * matrix_R[k][j]\n",
        "        return final_probabilities"
      ],
      "metadata": {
        "id": "uERw91VYGsNS"
      },
      "execution_count": 60,
      "outputs": []
    },
    {
      "cell_type": "code",
      "source": [
        "from flask import Flask\n",
        "from flask import request\n",
        "\n",
        "app = Flask(__name__)\n",
        "\n",
        "@app.route('/get_final_probabilities', methods=['GET'])\n",
        "def solution(m):\n",
        "\n",
        "    transient_states = []\n",
        "    absorbing_states = []\n",
        "    for i in range(len(m)):\n",
        "        row = m[i]\n",
        "        if sum(row) == 0:\n",
        "            absorbing_states.append(i)\n",
        "        else:\n",
        "            transient_states.append(i)\n",
        "\n",
        "    markov_standard_form(m)\n",
        "\n",
        "    Q = matrix_Q(m, transient_states)\n",
        "    R = matrix_R(m, transient_states, absorbing_states)\n",
        "    I = extract_identity_matrix(2, m)\n",
        "    diff = materices_subtraction(I, matrix_Q)\n",
        "    inverse = materices_inverse(diff)\n",
        "    result = materices_multiplication(inverse, R)\n",
        "\n",
        "if __name__ == '__main__':\n",
        "    app.run(debug=True)"
      ],
      "metadata": {
        "id": "eaEGgWTTMmtg"
      },
      "execution_count": 67,
      "outputs": []
    }
  ]
}